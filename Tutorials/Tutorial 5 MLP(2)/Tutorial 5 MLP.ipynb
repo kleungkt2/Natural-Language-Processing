{
 "cells": [
  {
   "cell_type": "markdown",
   "metadata": {},
   "source": [
    "# Tutorial 5 MLP\n",
    "\n",
    "- Keras\n",
    "- MLP for text classification"
   ]
  },
  {
   "cell_type": "code",
   "execution_count": 1,
   "metadata": {
    "scrolled": false
   },
   "outputs": [
    {
     "name": "stdout",
     "output_type": "stream",
     "text": [
      "Requirement already satisfied: nltk in /Users/tianqing/anaconda3/envs/COMP4901/lib/python3.8/site-packages (3.5)\n",
      "Requirement already satisfied: regex in /Users/tianqing/anaconda3/envs/COMP4901/lib/python3.8/site-packages (from nltk) (2020.7.14)\n",
      "Requirement already satisfied: joblib in /Users/tianqing/anaconda3/envs/COMP4901/lib/python3.8/site-packages (from nltk) (0.16.0)\n",
      "Requirement already satisfied: click in /Users/tianqing/anaconda3/envs/COMP4901/lib/python3.8/site-packages (from nltk) (7.1.2)\n",
      "Requirement already satisfied: tqdm in /Users/tianqing/anaconda3/envs/COMP4901/lib/python3.8/site-packages (from nltk) (4.49.0)\n",
      "Requirement already satisfied: numpy in /Users/tianqing/anaconda3/envs/COMP4901/lib/python3.8/site-packages (1.18.5)\n",
      "Requirement already satisfied: pandas in /Users/tianqing/anaconda3/envs/COMP4901/lib/python3.8/site-packages (1.1.2)\n",
      "Requirement already satisfied: numpy>=1.15.4 in /Users/tianqing/anaconda3/envs/COMP4901/lib/python3.8/site-packages (from pandas) (1.18.5)\n",
      "Requirement already satisfied: python-dateutil>=2.7.3 in /Users/tianqing/anaconda3/envs/COMP4901/lib/python3.8/site-packages (from pandas) (2.8.1)\n",
      "Requirement already satisfied: pytz>=2017.2 in /Users/tianqing/anaconda3/envs/COMP4901/lib/python3.8/site-packages (from pandas) (2020.1)\n",
      "Requirement already satisfied: six>=1.5 in /Users/tianqing/anaconda3/envs/COMP4901/lib/python3.8/site-packages (from python-dateutil>=2.7.3->pandas) (1.15.0)\n",
      "Requirement already satisfied: keras in /Users/tianqing/anaconda3/envs/COMP4901/lib/python3.8/site-packages (2.4.3)\n",
      "Requirement already satisfied: h5py in /Users/tianqing/anaconda3/envs/COMP4901/lib/python3.8/site-packages (from keras) (2.10.0)\n",
      "Requirement already satisfied: pyyaml in /Users/tianqing/anaconda3/envs/COMP4901/lib/python3.8/site-packages (from keras) (5.3.1)\n",
      "Requirement already satisfied: numpy>=1.9.1 in /Users/tianqing/anaconda3/envs/COMP4901/lib/python3.8/site-packages (from keras) (1.18.5)\n",
      "Requirement already satisfied: scipy>=0.14 in /Users/tianqing/anaconda3/envs/COMP4901/lib/python3.8/site-packages (from keras) (1.5.2)\n",
      "Requirement already satisfied: six in /Users/tianqing/anaconda3/envs/COMP4901/lib/python3.8/site-packages (from h5py->keras) (1.15.0)\n",
      "Requirement already satisfied: matplotlib in /Users/tianqing/anaconda3/envs/COMP4901/lib/python3.8/site-packages (3.3.1)\n",
      "Requirement already satisfied: pyparsing!=2.0.4,!=2.1.2,!=2.1.6,>=2.0.3 in /Users/tianqing/anaconda3/envs/COMP4901/lib/python3.8/site-packages (from matplotlib) (2.4.7)\n",
      "Requirement already satisfied: python-dateutil>=2.1 in /Users/tianqing/anaconda3/envs/COMP4901/lib/python3.8/site-packages (from matplotlib) (2.8.1)\n",
      "Requirement already satisfied: pillow>=6.2.0 in /Users/tianqing/anaconda3/envs/COMP4901/lib/python3.8/site-packages (from matplotlib) (7.2.0)\n",
      "Requirement already satisfied: certifi>=2020.06.20 in /Users/tianqing/anaconda3/envs/COMP4901/lib/python3.8/site-packages (from matplotlib) (2020.6.20)\n",
      "Requirement already satisfied: numpy>=1.15 in /Users/tianqing/anaconda3/envs/COMP4901/lib/python3.8/site-packages (from matplotlib) (1.18.5)\n",
      "Requirement already satisfied: kiwisolver>=1.0.1 in /Users/tianqing/anaconda3/envs/COMP4901/lib/python3.8/site-packages (from matplotlib) (1.2.0)\n",
      "Requirement already satisfied: cycler>=0.10 in /Users/tianqing/anaconda3/envs/COMP4901/lib/python3.8/site-packages (from matplotlib) (0.10.0)\n",
      "Requirement already satisfied: six>=1.5 in /Users/tianqing/anaconda3/envs/COMP4901/lib/python3.8/site-packages (from python-dateutil>=2.1->matplotlib) (1.15.0)\n",
      "Requirement already satisfied: tensorflow in /Users/tianqing/anaconda3/envs/COMP4901/lib/python3.8/site-packages (2.3.1)\n",
      "Requirement already satisfied: termcolor>=1.1.0 in /Users/tianqing/anaconda3/envs/COMP4901/lib/python3.8/site-packages (from tensorflow) (1.1.0)\n",
      "Requirement already satisfied: astunparse==1.6.3 in /Users/tianqing/anaconda3/envs/COMP4901/lib/python3.8/site-packages (from tensorflow) (1.6.3)\n",
      "Requirement already satisfied: google-pasta>=0.1.8 in /Users/tianqing/anaconda3/envs/COMP4901/lib/python3.8/site-packages (from tensorflow) (0.2.0)\n",
      "Requirement already satisfied: tensorboard<3,>=2.3.0 in /Users/tianqing/anaconda3/envs/COMP4901/lib/python3.8/site-packages (from tensorflow) (2.3.0)\n",
      "Requirement already satisfied: wheel>=0.26 in /Users/tianqing/anaconda3/envs/COMP4901/lib/python3.8/site-packages (from tensorflow) (0.35.1)\n",
      "Requirement already satisfied: protobuf>=3.9.2 in /Users/tianqing/anaconda3/envs/COMP4901/lib/python3.8/site-packages (from tensorflow) (3.13.0)\n",
      "Requirement already satisfied: wrapt>=1.11.1 in /Users/tianqing/anaconda3/envs/COMP4901/lib/python3.8/site-packages (from tensorflow) (1.12.1)\n",
      "Requirement already satisfied: opt-einsum>=2.3.2 in /Users/tianqing/anaconda3/envs/COMP4901/lib/python3.8/site-packages (from tensorflow) (3.3.0)\n",
      "Requirement already satisfied: absl-py>=0.7.0 in /Users/tianqing/anaconda3/envs/COMP4901/lib/python3.8/site-packages (from tensorflow) (0.10.0)\n",
      "Requirement already satisfied: gast==0.3.3 in /Users/tianqing/anaconda3/envs/COMP4901/lib/python3.8/site-packages (from tensorflow) (0.3.3)\n",
      "Requirement already satisfied: six>=1.12.0 in /Users/tianqing/anaconda3/envs/COMP4901/lib/python3.8/site-packages (from tensorflow) (1.15.0)\n",
      "Requirement already satisfied: numpy<1.19.0,>=1.16.0 in /Users/tianqing/anaconda3/envs/COMP4901/lib/python3.8/site-packages (from tensorflow) (1.18.5)\n",
      "Requirement already satisfied: keras-preprocessing<1.2,>=1.1.1 in /Users/tianqing/anaconda3/envs/COMP4901/lib/python3.8/site-packages (from tensorflow) (1.1.2)\n",
      "Requirement already satisfied: tensorflow-estimator<2.4.0,>=2.3.0 in /Users/tianqing/anaconda3/envs/COMP4901/lib/python3.8/site-packages (from tensorflow) (2.3.0)\n",
      "Requirement already satisfied: grpcio>=1.8.6 in /Users/tianqing/anaconda3/envs/COMP4901/lib/python3.8/site-packages (from tensorflow) (1.32.0)\n",
      "Requirement already satisfied: h5py<2.11.0,>=2.10.0 in /Users/tianqing/anaconda3/envs/COMP4901/lib/python3.8/site-packages (from tensorflow) (2.10.0)\n",
      "Requirement already satisfied: google-auth<2,>=1.6.3 in /Users/tianqing/anaconda3/envs/COMP4901/lib/python3.8/site-packages (from tensorboard<3,>=2.3.0->tensorflow) (1.22.1)\n",
      "Requirement already satisfied: requests<3,>=2.21.0 in /Users/tianqing/anaconda3/envs/COMP4901/lib/python3.8/site-packages (from tensorboard<3,>=2.3.0->tensorflow) (2.24.0)\n",
      "Requirement already satisfied: tensorboard-plugin-wit>=1.6.0 in /Users/tianqing/anaconda3/envs/COMP4901/lib/python3.8/site-packages (from tensorboard<3,>=2.3.0->tensorflow) (1.7.0)\n",
      "Requirement already satisfied: markdown>=2.6.8 in /Users/tianqing/anaconda3/envs/COMP4901/lib/python3.8/site-packages (from tensorboard<3,>=2.3.0->tensorflow) (3.3.2)\n",
      "Requirement already satisfied: setuptools>=41.0.0 in /Users/tianqing/anaconda3/envs/COMP4901/lib/python3.8/site-packages (from tensorboard<3,>=2.3.0->tensorflow) (49.6.0.post20200814)\n",
      "Requirement already satisfied: google-auth-oauthlib<0.5,>=0.4.1 in /Users/tianqing/anaconda3/envs/COMP4901/lib/python3.8/site-packages (from tensorboard<3,>=2.3.0->tensorflow) (0.4.1)\n",
      "Requirement already satisfied: werkzeug>=0.11.15 in /Users/tianqing/anaconda3/envs/COMP4901/lib/python3.8/site-packages (from tensorboard<3,>=2.3.0->tensorflow) (1.0.1)\n",
      "Requirement already satisfied: pyasn1-modules>=0.2.1 in /Users/tianqing/anaconda3/envs/COMP4901/lib/python3.8/site-packages (from google-auth<2,>=1.6.3->tensorboard<3,>=2.3.0->tensorflow) (0.2.8)\n",
      "Requirement already satisfied: rsa<5,>=3.1.4; python_version >= \"3.5\" in /Users/tianqing/anaconda3/envs/COMP4901/lib/python3.8/site-packages (from google-auth<2,>=1.6.3->tensorboard<3,>=2.3.0->tensorflow) (4.6)\n",
      "Requirement already satisfied: cachetools<5.0,>=2.0.0 in /Users/tianqing/anaconda3/envs/COMP4901/lib/python3.8/site-packages (from google-auth<2,>=1.6.3->tensorboard<3,>=2.3.0->tensorflow) (4.1.1)\n",
      "Requirement already satisfied: certifi>=2017.4.17 in /Users/tianqing/anaconda3/envs/COMP4901/lib/python3.8/site-packages (from requests<3,>=2.21.0->tensorboard<3,>=2.3.0->tensorflow) (2020.6.20)\n",
      "Requirement already satisfied: chardet<4,>=3.0.2 in /Users/tianqing/anaconda3/envs/COMP4901/lib/python3.8/site-packages (from requests<3,>=2.21.0->tensorboard<3,>=2.3.0->tensorflow) (3.0.4)\n",
      "Requirement already satisfied: idna<3,>=2.5 in /Users/tianqing/anaconda3/envs/COMP4901/lib/python3.8/site-packages (from requests<3,>=2.21.0->tensorboard<3,>=2.3.0->tensorflow) (2.10)\n",
      "Requirement already satisfied: urllib3!=1.25.0,!=1.25.1,<1.26,>=1.21.1 in /Users/tianqing/anaconda3/envs/COMP4901/lib/python3.8/site-packages (from requests<3,>=2.21.0->tensorboard<3,>=2.3.0->tensorflow) (1.25.11)\n",
      "Requirement already satisfied: requests-oauthlib>=0.7.0 in /Users/tianqing/anaconda3/envs/COMP4901/lib/python3.8/site-packages (from google-auth-oauthlib<0.5,>=0.4.1->tensorboard<3,>=2.3.0->tensorflow) (1.3.0)\n",
      "Requirement already satisfied: pyasn1<0.5.0,>=0.4.6 in /Users/tianqing/anaconda3/envs/COMP4901/lib/python3.8/site-packages (from pyasn1-modules>=0.2.1->google-auth<2,>=1.6.3->tensorboard<3,>=2.3.0->tensorflow) (0.4.8)\n",
      "Requirement already satisfied: oauthlib>=3.0.0 in /Users/tianqing/anaconda3/envs/COMP4901/lib/python3.8/site-packages (from requests-oauthlib>=0.7.0->google-auth-oauthlib<0.5,>=0.4.1->tensorboard<3,>=2.3.0->tensorflow) (3.1.0)\n"
     ]
    }
   ],
   "source": [
    "!pip install nltk\n",
    "!pip install numpy\n",
    "!pip install pandas\n",
    "!pip install keras\n",
    "!pip install matplotlib\n",
    "!pip install tensorflow"
   ]
  },
  {
   "cell_type": "markdown",
   "metadata": {},
   "source": [
    "# Introduction to Keras"
   ]
  },
  {
   "cell_type": "code",
   "execution_count": 2,
   "metadata": {},
   "outputs": [
    {
     "data": {
      "image/png": "[encoded data removed]",
      "text/plain": [
       "<Figure size 432x288 with 1 Axes>"
      ]
     },
     "metadata": {
      "needs_background": "light"
     },
     "output_type": "display_data"
    }
   ],
   "source": [
    "# a simple classificaiton task\n",
    "\n",
    "import numpy as np\n",
    "import matplotlib.pyplot as plt\n",
    "\n",
    "N = 500\n",
    "np.random.seed(43897)\n",
    "group1 = np.random.normal(loc=0.0, scale=0.6, size=[N, 2])\n",
    "group2 = np.random.normal(loc=1, scale=0.6, size=[N, 2])\n",
    "\n",
    "plt.scatter(group1[:,0], group1[:, 1], label=\"group 1\", alpha=0.5)\n",
    "plt.scatter(group2[:,0], group2[:, 1], label=\"group 2\", alpha=0.5)\n",
    "plt.legend()\n",
    "plt.show()"
   ]
  },
  {
   "cell_type": "code",
   "execution_count": 3,
   "metadata": {},
   "outputs": [
    {
     "name": "stdout",
     "output_type": "stream",
     "text": [
      "size of all dataset (1000, 2) (1000, 2)\n",
      "size of training set: (800, 2), size of dev set: (100, 2), size of test set:(100, 2).\n"
     ]
    }
   ],
   "source": [
    "shuffle_idx = np.random.permutation(2*N)\n",
    "X = np.vstack((group1, group2))[shuffle_idx]\n",
    "y = np.vstack((np.hstack((np.ones([N, 1]), np.zeros([N, 1]))), \n",
    "              np.hstack((np.zeros([N, 1]), np.ones([N, 1])))) )[shuffle_idx]\n",
    "\n",
    "print(\"size of all dataset\", X.shape, y.shape)\n",
    "train_X = X[:int(2*N*0.8), :]\n",
    "train_y = y[:int(2*N*0.8), :]\n",
    "dev_X = X[int(2*N*0.8):int(2*N*0.9), :]\n",
    "dev_y = y[int(2*N*0.8):int(2*N*0.9), :]\n",
    "test_X = X[int(2*N*0.9):, :]\n",
    "test_y = y[int(2*N*0.9):, :]\n",
    "print(\"size of training set: {}, size of dev set: {}, size of test set:{}.\".format(train_X.shape, dev_X.shape, test_X.shape))"
   ]
  },
  {
   "cell_type": "markdown",
   "metadata": {},
   "source": [
    "### Equation of the perceptron model:\n",
    "\n",
    "Input: Vector $X$, labels $y\\_$.\n",
    "\n",
    "$y = W^\\top X + b$\n",
    "\n",
    "$X\\in \\mathbb{R}^2, W\\in \\mathbb{R}^{2\\times2}, b\\in \\mathbb{R}^2$"
   ]
  },
  {
   "cell_type": "code",
   "execution_count": 4,
   "metadata": {
    "scrolled": false
   },
   "outputs": [
    {
     "name": "stdout",
     "output_type": "stream",
     "text": [
      "\n",
      "Epoch 00001: val_loss improved from inf to 0.39574, saving model to models/weights.hdf5\n",
      "\n",
      "Epoch 00002: val_loss improved from 0.39574 to 0.34853, saving model to models/weights.hdf5\n",
      "\n",
      "Epoch 00003: val_loss improved from 0.34853 to 0.32956, saving model to models/weights.hdf5\n",
      "\n",
      "Epoch 00004: val_loss improved from 0.32956 to 0.32519, saving model to models/weights.hdf5\n",
      "\n",
      "Epoch 00005: val_loss improved from 0.32519 to 0.32271, saving model to models/weights.hdf5\n",
      "\n",
      "Epoch 00006: val_loss did not improve from 0.32271\n",
      "\n",
      "Epoch 00007: val_loss improved from 0.32271 to 0.31991, saving model to models/weights.hdf5\n",
      "\n",
      "Epoch 00008: val_loss improved from 0.31991 to 0.31729, saving model to models/weights.hdf5\n",
      "\n",
      "Epoch 00009: val_loss did not improve from 0.31729\n",
      "\n",
      "Epoch 00010: val_loss did not improve from 0.31729\n",
      "25/25 [==============================] - 0s 692us/step - loss: 0.2706 - accuracy: 0.8875\n",
      "acc of training set = 0.89\n",
      "4/4 [==============================] - 0s 902us/step - loss: 0.2721 - accuracy: 0.8500\n",
      "acc of testing set = 0.85\n",
      "4/4 [==============================] - 0s 1ms/step - loss: 0.2736 - accuracy: 0.8500\n",
      "acc of testing set = 0.85\n"
     ]
    }
   ],
   "source": [
    "from keras.models import Sequential\n",
    "from keras.layers import Dense\n",
    "from keras.optimizers import SGD\n",
    "\n",
    "from keras.callbacks import ModelCheckpoint\n",
    "import os\n",
    "if not os.path.exists(\"models/\"):\n",
    "    os.mkdir(\"models\")\n",
    "    \n",
    "checkpoint_path = \"models/weights.hdf5\"    \n",
    "checkpointer = ModelCheckpoint(filepath=checkpoint_path, verbose=1, save_best_only=True)\n",
    "\n",
    "learning_rate = 0.1\n",
    "\n",
    "output_size = 2 # num_class\n",
    "input_size = 2 # num dimension\n",
    "\n",
    "model = Sequential()\n",
    "model.add(Dense(output_size, input_shape=(input_size,), activation=\"softmax\"))\n",
    "\n",
    "model.compile(loss=\"binary_crossentropy\", \n",
    "              optimizer=SGD(lr=learning_rate), \n",
    "              metrics=[\"accuracy\"])\n",
    "\n",
    "model.fit(train_X, train_y, epochs=10, batch_size=10, verbose=0,\n",
    "         validation_data=(dev_X, dev_y), callbacks=[checkpointer])\n",
    "\n",
    "loss_train, accuracy_train = model.evaluate(train_X, train_y)\n",
    "\n",
    "print(\"acc of training set = {:.2f}\".format(accuracy_train))\n",
    "\n",
    "loss_test, accuracy_test = model.evaluate(test_X, test_y)\n",
    "print(\"acc of testing set = {:.2f}\".format(accuracy_test))\n",
    "\n",
    "model.load_weights(checkpoint_path)\n",
    "\n",
    "loss_test, accuracy_test = model.evaluate(test_X, test_y)\n",
    "print(\"acc of testing set = {:.2f}\".format(accuracy_test))"
   ]
  },
  {
   "cell_type": "markdown",
   "metadata": {},
   "source": [
    "### Get the prediciton results"
   ]
  },
  {
   "cell_type": "code",
   "execution_count": 5,
   "metadata": {},
   "outputs": [
    {
     "name": "stdout",
     "output_type": "stream",
     "text": [
      "WARNING:tensorflow:From <ipython-input-5-39630fd7bb1f>:1: Sequential.predict_classes (from tensorflow.python.keras.engine.sequential) is deprecated and will be removed after 2021-01-01.\n",
      "Instructions for updating:\n",
      "Please use instead:* `np.argmax(model.predict(x), axis=-1)`,   if your model does multi-class classification   (e.g. if it uses a `softmax` last-layer activation).* `(model.predict(x) > 0.5).astype(\"int32\")`,   if your model does binary classification   (e.g. if it uses a `sigmoid` last-layer activation).\n",
      "[1 0 0 0 0 1 1 0 0 1 1 0 1 1 1 1 0 1 1 0 0 1 1 1 0 0 0 1 0 1 1 1 1 1 1 1 1\n",
      " 1 0 1 1 1 1 1 1 0 1 1 0 0 0 0 0 1 1 1 1 1 1 0 0 0 0 0 0 0 1 0 1 1 1 0 1 1\n",
      " 0 0 1 0 1 0 0 0 0 0 1 0 1 1 0 0 1 0 0 0 0 1 1 0 0 0]\n"
     ]
    }
   ],
   "source": [
    "Y_pred = model.predict_classes(test_X, batch_size=10, verbose=0)\n",
    "print(Y_pred)"
   ]
  },
  {
   "cell_type": "code",
   "execution_count": 6,
   "metadata": {},
   "outputs": [
    {
     "data": {
      "image/png": "[encoded data removed]",
      "text/plain": [
       "<Figure size 432x288 with 1 Axes>"
      ]
     },
     "metadata": {
      "needs_background": "light"
     },
     "output_type": "display_data"
    }
   ],
   "source": [
    "# visialization\n",
    "# edgecolors\n",
    "correct_x = [[], []]\n",
    "wrong_x = [[], []]\n",
    "\n",
    "for i, (y, y_) in enumerate(zip(Y_pred, test_y)):\n",
    "    y_ = np.argmax(y_)\n",
    "    if y == y_:\n",
    "        correct_x[y_].append(test_X[i])\n",
    "    else:\n",
    "        wrong_x[y_].append(test_X[i])\n",
    "plt.scatter(np.array(correct_x[0])[:, 0], np.array(correct_x[0])[:, 1], color=\"blue\", label=\"blue_correct\")\n",
    "plt.scatter(np.array(wrong_x[0])[:, 0], np.array(wrong_x[0])[:, 1], color=\"blue\", marker=\"x\", label=\"blue_wrong\")\n",
    "plt.scatter(np.array(correct_x[1])[:, 0], np.array(correct_x[1])[:, 1], color=\"coral\", label=\"coral_correct\")\n",
    "plt.scatter(np.array(wrong_x[1])[:, 0], np.array(wrong_x[1])[:, 1], color=\"coral\", marker=\"x\", label=\"coral_wrong\")\n",
    "plt.title(\"Predictions on the testing set\")\n",
    "plt.legend()\n",
    "plt.show()"
   ]
  },
  {
   "cell_type": "markdown",
   "metadata": {},
   "source": [
    "# MLP in NLP. Text classification\n",
    "\n",
    "Input features: 1-gram BOW of a sentence.\n",
    "\n",
    "Output: class\n",
    "\n",
    "Model: single layer perceptron and 2-layer perceptron"
   ]
  },
  {
   "cell_type": "code",
   "execution_count": 7,
   "metadata": {},
   "outputs": [],
   "source": [
    "import numpy as np\n",
    "from scipy import sparse\n",
    "from collections import Counter\n",
    "from sklearn.metrics import accuracy_score\n",
    "import nltk\n",
    "from nltk.corpus import stopwords\n",
    "import string\n",
    "import pandas as pd\n",
    "\n",
    "stopwords = set(stopwords.words(\"english\"))\n",
    "\n",
    "def load_data(file_name):\n",
    "    \"\"\"\n",
    "    :param file_name: a file name, type: str\n",
    "    return a list of ids, a list of documents, a list of labels\n",
    "    \"\"\"\n",
    "    df = pd.read_csv(file_name)\n",
    "\n",
    "    return df['id'], df[\"text\"], df['label']\n",
    "def load_labels(file_name):\n",
    "    \"\"\"\n",
    "    :param file_name: a file name, type: str\n",
    "    return a list of labels\n",
    "    \"\"\"\n",
    "    return pd.read_csv(file_name)['label']\n",
    "\n",
    "def tokenize(text):\n",
    "    \"\"\"\n",
    "    :param text: a doc with multiple sentences, type: str\n",
    "    return a word list, type: list\n",
    "    e.g.\n",
    "    Input: 'Text mining is to identify useful information.'\n",
    "    Output: ['Text', 'mining', 'is', 'to', 'identify', 'useful', 'information', '.']\n",
    "    \"\"\"\n",
    "    return nltk.word_tokenize(text)\n",
    "def filter_stopwords(tokens):\n",
    "    \"\"\"\n",
    "    :param tokens: a list of tokens, type: list\n",
    "    return a list of filtered tokens, type: list\n",
    "    e.g.\n",
    "    Input: ['text', 'mine', 'is', 'to', 'identifi', 'use', 'inform', '.']\n",
    "    Output: ['text', 'mine', 'identifi', 'use', 'inform', '.']\n",
    "    \"\"\"\n",
    "    ### equivalent code\n",
    "    # results = list()\n",
    "    # for token in tokens:\n",
    "    #     if token not in stopwords and not token.isnumeric():\n",
    "    #         results.append(token)\n",
    "    # return results\n",
    "\n",
    "    return [token for token in tokens if token not in stopwords and not token.isnumeric()]\n",
    "def get_bagofwords(data, vocab_dict):\n",
    "    '''\n",
    "    :param data: a list of tokenized documents, type: list\n",
    "    :param vocab_dict: a mapping from words to indices, type: dict\n",
    "    return a BOW matrix in Compressed Sparse Row matrix format, type: scipy.sparse.csr_matrix\n",
    "    '''\n",
    "    \n",
    "    '''\n",
    "    The BOW matrix is first constructed using Row-based list of lists sparse matrix (LIL) format.\n",
    "    LIL is a convenient format for constructing sparse matrices, as it supports flexible slicing, \n",
    "    and it is efficient to change to the matrix sparsity structure.\n",
    "    '''\n",
    "    \n",
    "    data_matrix = sparse.lil_matrix((len(data), len(vocab_dict)))\n",
    "\n",
    "    for i, doc in enumerate(data):\n",
    "        for word in doc:\n",
    "            word_idx = vocab_dict.get(word, -1)\n",
    "            if word_idx != -1:\n",
    "                data_matrix[i, word_idx] += 1\n",
    "                \n",
    "    '''\n",
    "    After constructing the BOW matrix on all input documents, we convert the matrix to Compressed Sparse \n",
    "    Row (CSR) format for fast arithmetic and matrix vector operations.\n",
    "    '''\n",
    "    data_matrix = data_matrix.tocsr()\n",
    "    \n",
    "    return data_matrix"
   ]
  },
  {
   "cell_type": "markdown",
   "metadata": {},
   "source": [
    "### preprocessing"
   ]
  },
  {
   "cell_type": "code",
   "execution_count": 8,
   "metadata": {},
   "outputs": [],
   "source": [
    "train_file = \"data/train.csv\"\n",
    "test_file = \"data/test.csv\"\n",
    "ans_file = \"data/answer.csv\"\n",
    "\n",
    "\n",
    "train_ids, train_texts, train_labels_raw = load_data(train_file)\n",
    "test_ids, test_texts, _ = load_data(test_file)\n",
    "test_labels = load_labels(ans_file)"
   ]
  },
  {
   "cell_type": "code",
   "execution_count": 9,
   "metadata": {},
   "outputs": [
    {
     "name": "stdout",
     "output_type": "stream",
     "text": [
      "[[0. 0. 0. 0. 1.]\n",
      " [0. 0. 0. 1. 0.]\n",
      " [0. 0. 0. 0. 1.]\n",
      " [1. 0. 0. 0. 0.]\n",
      " [0. 0. 0. 0. 1.]\n",
      " [0. 0. 0. 1. 0.]\n",
      " [0. 0. 0. 0. 1.]\n",
      " [0. 0. 0. 0. 1.]\n",
      " [0. 0. 0. 0. 1.]\n",
      " [0. 0. 0. 0. 1.]]\n",
      "0    5\n",
      "1    4\n",
      "2    5\n",
      "3    1\n",
      "4    5\n",
      "5    4\n",
      "6    5\n",
      "7    5\n",
      "8    5\n",
      "9    5\n",
      "Name: label, dtype: int64\n"
     ]
    }
   ],
   "source": [
    "# Transform the labels to logits\n",
    "\n",
    "num_class = 5\n",
    "\n",
    "train_labels = np.zeros((len(train_ids), num_class))\n",
    "train_labels[(list(range(len(train_ids))), list(train_labels_raw-1))] = 1\n",
    "\n",
    "test_labels = np.zeros((len(test_ids), num_class))\n",
    "test_labels[(list(range(len(test_ids))), list(load_labels(ans_file)-1))] = 1\n",
    "print(test_labels[:10, :])\n",
    "print(load_labels(ans_file)[:10])"
   ]
  },
  {
   "cell_type": "code",
   "execution_count": 10,
   "metadata": {},
   "outputs": [
    {
     "name": "stdout",
     "output_type": "stream",
     "text": [
      "Size of train set: 2000\n",
      "Size of test set: 400\n"
     ]
    }
   ],
   "source": [
    "print(\"Size of train set: {}\".format(len(train_ids)))\n",
    "print(\"Size of test set: {}\".format(len(test_ids)))"
   ]
  },
  {
   "cell_type": "code",
   "execution_count": 11,
   "metadata": {},
   "outputs": [
    {
     "name": "stdout",
     "output_type": "stream",
     "text": [
      "Size of vocab:  16021\n"
     ]
    }
   ],
   "source": [
    "# Tokenization\n",
    "train_tokens = [tokenize(text) for text in train_texts] \n",
    "test_tokens = [tokenize(text) for text in test_texts]\n",
    "# Stop words removal\n",
    "train_tokens = [filter_stopwords(tokens) for tokens in train_tokens]\n",
    "test_tokens = [filter_stopwords(tokens) for tokens in test_tokens]\n",
    "# use a set data structure to hold all words appearing in the train set\n",
    "vocab = set()\n",
    "for i, doc in enumerate(train_tokens):# enumerate over each document in the train set\n",
    "    # enumerate over each word in the document\n",
    "    for word in doc:\n",
    "        # if this word has been added into the set before, \n",
    "        # then it will be ignored, otherwise, it will be \n",
    "        # added into the set.\n",
    "        vocab.add(word)\n",
    "# create a dictionary from the set of words, where the\n",
    "# keys are word strings and the values are numerical indices\n",
    "vocab_dict = dict(zip(vocab, range(len(vocab))))\n",
    "print('Size of vocab: ', len(vocab_dict))"
   ]
  },
  {
   "cell_type": "code",
   "execution_count": 12,
   "metadata": {},
   "outputs": [],
   "source": [
    "train_data_matrix = get_bagofwords(train_tokens, vocab_dict)\n",
    "test_data_matrix = get_bagofwords(test_tokens, vocab_dict)"
   ]
  },
  {
   "cell_type": "code",
   "execution_count": 13,
   "metadata": {},
   "outputs": [
    {
     "name": "stdout",
     "output_type": "stream",
     "text": [
      "Type of train_data_matrix:  <class 'scipy.sparse.csr.csr_matrix'>\n",
      "Type of test_data_matrix:  <class 'scipy.sparse.csr.csr_matrix'>\n",
      "Shape of train_data_matrix: (2000, 16021)\n",
      "Shape of test_data_matrix: (400, 16021)\n"
     ]
    }
   ],
   "source": [
    "print('Type of train_data_matrix: ', type(train_data_matrix))\n",
    "print('Type of test_data_matrix: ', type(test_data_matrix))\n",
    "print('Shape of train_data_matrix:', train_data_matrix.shape)\n",
    "print('Shape of test_data_matrix:', test_data_matrix.shape)"
   ]
  },
  {
   "cell_type": "markdown",
   "metadata": {},
   "source": [
    "### Model"
   ]
  },
  {
   "cell_type": "code",
   "execution_count": 14,
   "metadata": {},
   "outputs": [],
   "source": [
    "learning_rate = 0.1\n",
    "\n",
    "model_single_layer = Sequential()\n",
    "model_single_layer.add(Dense(num_class, input_shape=(len(vocab_dict),), activation=\"softmax\"))\n",
    "\n",
    "model_single_layer.compile(loss=\"binary_crossentropy\", \n",
    "              optimizer=SGD(lr=learning_rate), \n",
    "              metrics=[\"accuracy\"])"
   ]
  },
  {
   "cell_type": "code",
   "execution_count": 15,
   "metadata": {},
   "outputs": [
    {
     "name": "stdout",
     "output_type": "stream",
     "text": [
      "Epoch 1/20\n",
      "20/20 [==============================] - 0s 1ms/step - loss: 0.4779 - accuracy: 0.3670\n",
      "Epoch 2/20\n",
      "20/20 [==============================] - 0s 1ms/step - loss: 0.4392 - accuracy: 0.4425\n",
      "Epoch 3/20\n",
      "20/20 [==============================] - 0s 919us/step - loss: 0.4184 - accuracy: 0.4815\n",
      "Epoch 4/20\n",
      "20/20 [==============================] - 0s 941us/step - loss: 0.3963 - accuracy: 0.5145\n",
      "Epoch 5/20\n",
      "20/20 [==============================] - 0s 1ms/step - loss: 0.3851 - accuracy: 0.5355\n",
      "Epoch 6/20\n",
      "20/20 [==============================] - 0s 892us/step - loss: 0.3725 - accuracy: 0.5645\n",
      "Epoch 7/20\n",
      "20/20 [==============================] - 0s 898us/step - loss: 0.3635 - accuracy: 0.5740\n",
      "Epoch 8/20\n",
      "20/20 [==============================] - 0s 960us/step - loss: 0.3532 - accuracy: 0.5915\n",
      "Epoch 9/20\n",
      "20/20 [==============================] - 0s 1ms/step - loss: 0.3495 - accuracy: 0.5975\n",
      "Epoch 10/20\n",
      "20/20 [==============================] - 0s 884us/step - loss: 0.3398 - accuracy: 0.6220\n",
      "Epoch 11/20\n",
      "20/20 [==============================] - 0s 878us/step - loss: 0.3344 - accuracy: 0.6305\n",
      "Epoch 12/20\n",
      "20/20 [==============================] - 0s 1ms/step - loss: 0.3293 - accuracy: 0.6420\n",
      "Epoch 13/20\n",
      "20/20 [==============================] - 0s 893us/step - loss: 0.3247 - accuracy: 0.6380\n",
      "Epoch 14/20\n",
      "20/20 [==============================] - 0s 917us/step - loss: 0.3181 - accuracy: 0.6540\n",
      "Epoch 15/20\n",
      "20/20 [==============================] - 0s 1ms/step - loss: 0.3113 - accuracy: 0.6715\n",
      "Epoch 16/20\n",
      "20/20 [==============================] - 0s 978us/step - loss: 0.3082 - accuracy: 0.6700\n",
      "Epoch 17/20\n",
      "20/20 [==============================] - 0s 990us/step - loss: 0.3032 - accuracy: 0.6750\n",
      "Epoch 18/20\n",
      "20/20 [==============================] - 0s 1ms/step - loss: 0.2997 - accuracy: 0.6880\n",
      "Epoch 19/20\n",
      "20/20 [==============================] - 0s 963us/step - loss: 0.2968 - accuracy: 0.6935\n",
      "Epoch 20/20\n",
      "20/20 [==============================] - 0s 996us/step - loss: 0.2941 - accuracy: 0.6930\n",
      "63/63 [==============================] - 0s 596us/step - loss: 0.2897 - accuracy: 0.6995\n",
      "acc of training set = 0.70\n"
     ]
    }
   ],
   "source": [
    "model_single_layer.fit(train_data_matrix, train_labels, epochs=20, batch_size=100, verbose=1)\n",
    "\n",
    "loss_train, accuracy_train = model_single_layer.evaluate(train_data_matrix, train_labels)\n",
    "print(\"acc of training set = {:.2f}\".format(accuracy_train))"
   ]
  },
  {
   "cell_type": "code",
   "execution_count": 16,
   "metadata": {},
   "outputs": [
    {
     "name": "stdout",
     "output_type": "stream",
     "text": [
      "13/13 [==============================] - 0s 838us/step - loss: 0.3644 - accuracy: 0.5475\n",
      "acc of testing set = 0.5475\n"
     ]
    }
   ],
   "source": [
    "loss_test, accuracy_test = model_single_layer.evaluate(test_data_matrix, test_labels)\n",
    "print(\"acc of testing set = {:.4f}\".format(accuracy_test))"
   ]
  },
  {
   "cell_type": "code",
   "execution_count": 18,
   "metadata": {},
   "outputs": [
    {
     "name": "stdout",
     "output_type": "stream",
     "text": [
      "acc of testing set = 0.5275\n"
     ]
    }
   ],
   "source": [
    "learning_rate = 0.1\n",
    "\n",
    "model_two_layer = Sequential()\n",
    "model_two_layer.add(Dense(len(vocab_dict), input_shape=(len(vocab_dict),), activation=\"relu\"))\n",
    "\n",
    "model_two_layer.add(Dense(num_class, input_shape=(len(vocab_dict),), activation=\"softmax\"))\n",
    "\n",
    "model_two_layer.compile(loss=\"binary_crossentropy\", \n",
    "              optimizer=SGD(lr=learning_rate), \n",
    "              metrics=[\"accuracy\"])\n",
    "\n",
    "model_two_layer.fit(train_data_matrix, train_labels, epochs=30, batch_size=100, verbose=1)\n",
    "\n",
    "loss_test, accuracy_test = model_two_layer.evaluate(test_data_matrix, test_labels)\n",
    "print(\"acc of testing set = {:.4f}\".format(accuracy_test))"
   ]
  },
  {
   "cell_type": "markdown",
   "metadata": {},
   "source": [
    "# Comments and analysis\n",
    "\n",
    "1. When using 1 gram as features, the performance of single layer perceptron and 2-layer MLP is similar.\n",
    "2. When incorporating higher-order features like word embedding, MLP would generally outperform single layer perceptron.\n",
    "3. For n-gram features, SVM is a fast and effective tool for classfication tasks.\n",
    "\n",
    "You could also tune parameters to improve the accuracy."
   ]
  },
  {
   "cell_type": "code",
   "execution_count": 19,
   "metadata": {},
   "outputs": [
    {
     "data": {
      "image/png": "[encoded data removed]",
      "text/plain": [
       "<Figure size 432x288 with 1 Axes>"
      ]
     },
     "metadata": {
      "needs_background": "light"
     },
     "output_type": "display_data"
    }
   ],
   "source": [
    "# parameter tuning\n",
    "\n",
    "for batch_size in [5, 10, 100]:\n",
    "    learning_rate = 0.1\n",
    "\n",
    "    model_single_layer = Sequential()\n",
    "    model_single_layer.add(Dense(num_class, input_shape=(len(vocab_dict),), activation=\"softmax\"))\n",
    "\n",
    "    model_single_layer.compile(loss=\"binary_crossentropy\", \n",
    "                  optimizer=SGD(lr=learning_rate), \n",
    "                  metrics=[\"accuracy\"])\n",
    "\n",
    "    train_history = model_single_layer.fit(train_data_matrix, \n",
    "                                           train_labels, \n",
    "                                           epochs=20, \n",
    "                                           batch_size=batch_size, \n",
    "                                           verbose=0,\n",
    "                                           validation_data=(test_data_matrix, test_labels)\n",
    "                                           )\n",
    "\n",
    "#     loss = train_history.history['loss']\n",
    "    val_loss = train_history.history['val_loss']\n",
    "#     plt.plot(loss, )\n",
    "    plt.plot(val_loss, label=\"b_s:{}\".format(batch_size))\n",
    "plt.legend()\n",
    "plt.show()"
   ]
  },
  {
   "cell_type": "code",
   "execution_count": 20,
   "metadata": {},
   "outputs": [
    {
     "data": {
      "text/plain": [
       "dict_keys(['loss', 'accuracy', 'val_loss', 'val_accuracy'])"
      ]
     },
     "execution_count": 20,
     "metadata": {},
     "output_type": "execute_result"
    }
   ],
   "source": [
    "train_history.history.keys()"
   ]
  },
  {
   "cell_type": "code",
   "execution_count": 21,
   "metadata": {},
   "outputs": [
    {
     "data": {
      "image/png": "[encoded data removed]",
      "text/plain": [
       "<Figure size 432x288 with 1 Axes>"
      ]
     },
     "metadata": {
      "needs_background": "light"
     },
     "output_type": "display_data"
    }
   ],
   "source": [
    "# parameter tuning\n",
    "\n",
    "for batch_size in [5, 10, 100]:\n",
    "    learning_rate = 0.1\n",
    "\n",
    "    model_single_layer = Sequential()\n",
    "    model_single_layer.add(Dense(num_class, input_shape=(len(vocab_dict),), activation=\"softmax\"))\n",
    "\n",
    "    model_single_layer.compile(loss=\"binary_crossentropy\", \n",
    "                  optimizer=SGD(lr=learning_rate), \n",
    "                  metrics=[\"accuracy\"])\n",
    "\n",
    "    train_history = model_single_layer.fit(train_data_matrix, \n",
    "                                           train_labels, \n",
    "                                           epochs=20, \n",
    "                                           batch_size=batch_size, \n",
    "                                           verbose=0,\n",
    "                                           validation_data=(test_data_matrix, test_labels)\n",
    "                                           )\n",
    "\n",
    "#     loss = train_history.history['loss']\n",
    "    val_loss = train_history.history['val_accuracy']\n",
    "#     plt.plot(loss, )\n",
    "    plt.plot(val_loss, label=\"b_s:{}\".format(batch_size))\n",
    "plt.legend()\n",
    "plt.show()"
   ]
  },
  {
   "cell_type": "code",
   "execution_count": null,
   "metadata": {},
   "outputs": [],
   "source": [
    "# batch size 100 has the best performance"
   ]
  }
 ],
 "metadata": {
  "kernelspec": {
   "display_name": "Python 3",
   "language": "python",
   "name": "python3"
  },
  "language_info": {
   "codemirror_mode": {
    "name": "ipython",
    "version": 3
   },
   "file_extension": ".py",
   "mimetype": "text/x-python",
   "name": "python",
   "nbconvert_exporter": "python",
   "pygments_lexer": "ipython3",
   "version": "3.8.5"
  }
 },
 "nbformat": 4,
 "nbformat_minor": 4
}
