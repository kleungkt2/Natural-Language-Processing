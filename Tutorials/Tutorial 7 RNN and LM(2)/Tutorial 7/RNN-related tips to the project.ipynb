{
 "cells": [
  {
   "cell_type": "markdown",
   "metadata": {},
   "source": [
    "# NER RNN model\n",
    "\n",
    "An RNN Language model is provided here.\n",
    "\n",
    "Input:\n",
    "- word tokens $[w_1, w_2, \\cdots, w_n]$\n",
    "- tags $[t_1, t_2, \\cdots, t_n]$\n",
    "\n",
    "Model：\n",
    "- embedding layer: get the representation of all the words as $[e_1, e_2, \\cdots, e_n]$.\n",
    "- RNN: get the hidden representation of the sentence $[h_1, h_2, \\cdots, h_n]$.\n",
    "- Output layer: predict the probability of the token belonging to a certain tag $[\\textbf{y}_1, \\cdots, \\textbf{y}_n]$"
   ]
  },
  {
   "cell_type": "code",
   "execution_count": null,
   "metadata": {},
   "outputs": [],
   "source": [
    "inputs = Input(shape=(sequence_length,), dtype='int32')\n",
    "emb_layer = Embedding(input_dim=vocabulary_size, \n",
    "                    output_dim=embedding_dim, \n",
    "                    input_length=sequence_length)\n",
    "embedding = emb_layer(inputs)\n",
    "\n",
    "lstm_out = LSTM(units=hidden_size, return_sequences=True)(drop_embed)\n",
    "# output: lstm_out -> [batch_size, sequence_length, hidden_size]\n",
    "\n",
    "\n",
    "outputs = TimeDistributed(Dense(units=num_tags, activation='softmax'))(lstm_out)\n",
    "# output: outputs -> [batch_size, sequence_length, vocabulary_size]"
   ]
  }
 ],
 "metadata": {
  "kernelspec": {
   "display_name": "Python 3",
   "language": "python",
   "name": "python3"
  },
  "language_info": {
   "codemirror_mode": {
    "name": "ipython",
    "version": 3
   },
   "file_extension": ".py",
   "mimetype": "text/x-python",
   "name": "python",
   "nbconvert_exporter": "python",
   "pygments_lexer": "ipython3",
   "version": "3.8.5"
  }
 },
 "nbformat": 4,
 "nbformat_minor": 4
}
