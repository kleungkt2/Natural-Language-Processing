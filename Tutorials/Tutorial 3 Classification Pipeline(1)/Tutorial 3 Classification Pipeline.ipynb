{
 "cells": [
  {
   "cell_type": "code",
   "execution_count": 1,
   "metadata": {},
   "outputs": [],
   "source": [
    "import math\n",
    "import pandas as pd\n",
    "import numpy as np\n",
    "import matplotlib.pyplot as plt\n",
    "from collections import Counter\n",
    "from itertools import chain\n",
    "from sklearn.model_selection import StratifiedKFold\n",
    "from sklearn.metrics import accuracy_score, f1_score\n",
    "from sklearn.naive_bayes import GaussianNB\n",
    "from sklearn.preprocessing import OneHotEncoder\n",
    "from nltk.corpus import stopwords\n",
    "from nltk.stem import PorterStemmer\n",
    "from scipy.sparse import coo_matrix\n",
    "stopwords = set(stopwords.words(\"english\"))\n",
    "ps = PorterStemmer()"
   ]
  },
  {
   "cell_type": "code",
   "execution_count": 2,
   "metadata": {},
   "outputs": [
    {
     "name": "stderr",
     "output_type": "stream",
     "text": [
      "[nltk_data] Downloading package punkt to /home/zlinai/nltk_data...\n",
      "[nltk_data]   Package punkt is already up-to-date!\n",
      "[nltk_data] Downloading package stopwords to /home/zlinai/nltk_data...\n",
      "[nltk_data]   Package stopwords is already up-to-date!\n"
     ]
    },
    {
     "data": {
      "text/plain": [
       "True"
      ]
     },
     "execution_count": 2,
     "metadata": {},
     "output_type": "execute_result"
    }
   ],
   "source": [
    "import nltk\n",
    "nltk.download ('punkt')\n",
    "nltk.download('stopwords')"
   ]
  },
  {
   "cell_type": "markdown",
   "metadata": {},
   "source": [
    "### Data Loader"
   ]
  },
  {
   "cell_type": "markdown",
   "metadata": {},
   "source": [
    "Python provides a lot of packages to load files in different formats. We provide a simple data loader to help you load .csv files."
   ]
  },
  {
   "cell_type": "code",
   "execution_count": 3,
   "metadata": {},
   "outputs": [],
   "source": [
    "def load_data(file_name):\n",
    "    \"\"\"\n",
    "    :param file_name: a file name, type: str\n",
    "    return a list of ids, a list of reviews, a list of labels\n",
    "    https://pandas.pydata.org/pandas-docs/stable/generated/pandas.read_csv.html\n",
    "    \"\"\"\n",
    "    df = pd.read_csv(file_name)\n",
    "\n",
    "    return df['id'], df[\"text\"], df['label']\n",
    "\n",
    "def load_labels(file_name):\n",
    "    \"\"\"\n",
    "    :param file_name: a file name, type: str\n",
    "    return a list of labels\n",
    "    \"\"\"\n",
    "    return pd.read_csv(file_name)['label']\n",
    "\n",
    "def write_predictions(file_name, pred):\n",
    "    df = pd.DataFrame(zip(range(len(pred)), pred))\n",
    "    df.columns = [\"id\", \"label\"]\n",
    "    df.to_csv(file_name, index=False)"
   ]
  },
  {
   "cell_type": "markdown",
   "metadata": {},
   "source": [
    "### Feature Extractor"
   ]
  },
  {
   "cell_type": "markdown",
   "metadata": {},
   "source": [
    "\n",
    "The **feature extractor** is one of the most important parts in a pipeline.\n",
    "We will use the text pre-processing techniques you have learnt from the previous tutorials as the feature extractor.\n"
   ]
  },
  {
   "cell_type": "code",
   "execution_count": 4,
   "metadata": {},
   "outputs": [],
   "source": [
    "def tokenize(text):\n",
    "    \"\"\"\n",
    "    :param text: a doc with multiple sentences, type: str\n",
    "    return a word list, type: list\n",
    "    e.g.\n",
    "    Input: 'Text mining is to identify useful information.'\n",
    "    Output: ['Text', 'mining', 'is', 'to', 'identify', 'useful', 'information', '.']\n",
    "    \"\"\"\n",
    "    return nltk.word_tokenize(text)"
   ]
  },
  {
   "cell_type": "code",
   "execution_count": 5,
   "metadata": {},
   "outputs": [],
   "source": [
    "def stem(tokens):\n",
    "    \"\"\"\n",
    "    :param tokens: a list of tokens, type: list\n",
    "    return a list of stemmed words, type: list\n",
    "    e.g.\n",
    "    Input: ['Text', 'mining', 'is', 'to', 'identify', 'useful', 'information', '.']\n",
    "    Output: ['text', 'mine', 'is', 'to', 'identifi', 'use', 'inform', '.']\n",
    "    \"\"\"\n",
    "    ### equivalent code\n",
    "    # results = list()\n",
    "    # for token in tokens:\n",
    "    #     results.append(ps.stem(token))\n",
    "    # return results\n",
    "\n",
    "    return [ps.stem(token) for token in tokens]"
   ]
  },
  {
   "cell_type": "code",
   "execution_count": 6,
   "metadata": {},
   "outputs": [],
   "source": [
    "def n_gram(tokens, n=1):\n",
    "    \"\"\"\n",
    "    :param tokens: a list of tokens, type: list\n",
    "    :param n: the corresponding n-gram, type: int\n",
    "    return a list of n-gram tokens, type: list\n",
    "    e.g.\n",
    "    Input: ['text', 'mine', 'is', 'to', 'identifi', 'use', 'inform', '.'], 2\n",
    "    Output: ['text mine', 'mine is', 'is to', 'to identifi', 'identifi use', 'use inform', 'inform .']\n",
    "    \"\"\"\n",
    "    if n == 1:\n",
    "        return tokens\n",
    "    else:\n",
    "        results = list()\n",
    "        for i in range(len(tokens)-n+1):\n",
    "            # tokens[i:i+n] will return a sublist from i th to i+n th (i+n th is not included)\n",
    "            results.append(\" \".join(tokens[i:i+n]))\n",
    "        return results"
   ]
  },
  {
   "cell_type": "code",
   "execution_count": 7,
   "metadata": {},
   "outputs": [],
   "source": [
    "def filter_stopwords(tokens):\n",
    "    \"\"\"\n",
    "    :param tokens: a list of tokens, type: list\n",
    "    return a list of filtered tokens, type: list\n",
    "    e.g.\n",
    "    Input: ['text', 'mine', 'is', 'to', 'identifi', 'use', 'inform', '.']\n",
    "    Output: ['text', 'mine', 'identifi', 'use', 'inform', '.']\n",
    "    \"\"\"\n",
    "    ### equivalent code\n",
    "    # results = list()\n",
    "    # for token in tokens:\n",
    "    #     if token not in stopwords and not token.isnumeric():\n",
    "    #         results.append(token)\n",
    "    # return results\n",
    "\n",
    "    return [token for token in tokens if token not in stopwords and not token.isnumeric()]"
   ]
  },
  {
   "cell_type": "code",
   "execution_count": 8,
   "metadata": {},
   "outputs": [],
   "source": [
    "def get_onehot_vector(feats, feats_dict):\n",
    "    \"\"\"\n",
    "    :param feats: a list of features, type: list\n",
    "    :param feats_dict: a dict from features to indices, type: dict\n",
    "    return a feature vector,\n",
    "    \"\"\"\n",
    "    # initialize the vector as all zeros\n",
    "    vector = np.zeros(len(feats_dict), dtype=np.float)\n",
    "    for f in feats:\n",
    "        # get the feature index, return -1 if the feature is not existed\n",
    "        f_idx = feats_dict.get(f, -1)\n",
    "        if f_idx != -1:\n",
    "            # set the corresponding element as 1\n",
    "            vector[f_idx] = 1\n",
    "    return vector"
   ]
  },
  {
   "cell_type": "markdown",
   "metadata": {},
   "source": [
    "### Classifier"
   ]
  },
  {
   "cell_type": "markdown",
   "metadata": {},
   "source": [
    "In this tutorial, we use the Naive Bayes algorithm a black-box classifier to illustrate the classification pipeline.\n",
    "\n",
    "If you want to know more about the model, you can check this web page https://scikit-learn.org/stable/modules/naive_bayes.html ."
   ]
  },
  {
   "cell_type": "code",
   "execution_count": 9,
   "metadata": {},
   "outputs": [],
   "source": [
    "clf0 = GaussianNB()"
   ]
  },
  {
   "cell_type": "markdown",
   "metadata": {},
   "source": [
    "### Connect All Parts"
   ]
  },
  {
   "cell_type": "markdown",
   "metadata": {},
   "source": [
    "Now we have the data loader, feature extractor, and the classifier. We can connect them to finish this pipeline of classification."
   ]
  },
  {
   "cell_type": "code",
   "execution_count": 10,
   "metadata": {
    "scrolled": true
   },
   "outputs": [],
   "source": [
    "train_file = \"data/train.csv\"\n",
    "test_file = \"data/test.csv\"\n",
    "ans_file = \"data/answer.csv\"\n",
    "pred_file = \"data/pred.csv\"\n",
    "\n",
    "# load data\n",
    "train_ids, train_texts, train_labels = load_data(train_file)\n",
    "test_ids, test_texts, _ = load_data(test_file)\n",
    "test_labels = load_labels(ans_file)\n",
    "\n",
    "# extract features\n",
    "\n",
    "# tokenization\n",
    "train_tokens = [tokenize(text) for text in train_texts] \n",
    "test_tokens = [tokenize(text) for text in test_texts]\n",
    "\n",
    "# stemming\n",
    "train_stemmed = [stem(tokens) for tokens in train_tokens]\n",
    "test_stemmed = [stem(tokens) for tokens in test_tokens]\n",
    "\n",
    "# n-gram\n",
    "train_2_gram = [n_gram(tokens, 2) for tokens in train_stemmed]\n",
    "train_3_gram = [n_gram(tokens, 3) for tokens in train_stemmed]\n",
    "train_4_gram = [n_gram(tokens, 4) for tokens in train_stemmed]\n",
    "\n",
    "test_2_gram = [n_gram(tokens, 2) for tokens in test_stemmed]\n",
    "test_3_gram = [n_gram(tokens, 3) for tokens in test_stemmed]\n",
    "test_4_gram = [n_gram(tokens, 4) for tokens in test_stemmed]\n",
    "\n",
    "\n",
    "# remove stopwords\n",
    "# the input should be the stemmed tokens and the output is a cleanner token list\n",
    "train_stemmed = [filter_stopwords(tokens) for tokens in train_stemmed]\n",
    "test_stemmed = [filter_stopwords(tokens) for tokens in test_stemmed]\n"
   ]
  },
  {
   "cell_type": "markdown",
   "metadata": {},
   "source": [
    "We only use those features which occur more than 10 times"
   ]
  },
  {
   "cell_type": "code",
   "execution_count": 11,
   "metadata": {},
   "outputs": [
    {
     "name": "stdout",
     "output_type": "stream",
     "text": [
      "Size of features: 3745\n"
     ]
    }
   ],
   "source": [
    "# build a set containing each unique feature which has appeared more than 10 times in the training set\n",
    "feats_set = set()\n",
    "\n",
    "# build a Counter for stemmed features, e.g., {\"text\": 2, \"mine\": 1}\n",
    "stemmed_feat_cnt = Counter()\n",
    "\n",
    "for feats in train_stemmed:\n",
    "    stemmed_feat_cnt.update(feats)\n",
    "\n",
    "# add those stem features which occurs more than 10 times into the feature set.\n",
    "feats_set.update([f for f, cnt in stemmed_feat_cnt.items() if cnt > 10]) \n",
    "    \n",
    "\n",
    "# build a Counter for 2-gram features\n",
    "bi_gram_feat_cnt = Counter()\n",
    "for feats in train_2_gram:\n",
    "    bi_gram_feat_cnt.update(feats)\n",
    "\n",
    "# add those 2-gram features which occurs more than 10 times into the feature set.\n",
    "feats_set.update([f for f, cnt in bi_gram_feat_cnt.items() if cnt > 10]) \n",
    "\n",
    "\n",
    "# build a Counter for 3-gram features\n",
    "tri_gram_feat_cnt = Counter()\n",
    "\n",
    "for feats in train_3_gram:\n",
    "    tri_gram_feat_cnt.update(feats)\n",
    "\n",
    "# add those 3-gram features which occurs more than 10 times into the feature set.\n",
    "feats_set.update([f for f, cnt in tri_gram_feat_cnt.items() if cnt > 10]) \n",
    "\n",
    "\n",
    "# first, build a Counter for 4-gram features\n",
    "four_gram_feat_cnt = Counter()\n",
    "\n",
    "for feats in train_4_gram:\n",
    "    four_gram_feat_cnt.update(feats)\n",
    "    \n",
    "# add those 4-gram features which occurs more than 10 times into the feature set.\n",
    "feats_set.update([f for f, cnt in four_gram_feat_cnt.items() if cnt > 10]) \n",
    "\n",
    "\n",
    "print(\"Size of features:\", len(feats_set))\n",
    "\n",
    "# build the feature dict mapping each feature to its index \n",
    "feats_dict = dict(zip(feats_set, range(len(feats_set))))\n",
    "\n"
   ]
  },
  {
   "cell_type": "code",
   "execution_count": 12,
   "metadata": {},
   "outputs": [
    {
     "data": {
      "text/plain": [
       "GaussianNB(priors=None, var_smoothing=1e-09)"
      ]
     },
     "execution_count": 12,
     "metadata": {},
     "output_type": "execute_result"
    }
   ],
   "source": [
    "# build the feature list\n",
    "train_feats = list()\n",
    "for i in range(len(train_ids)):\n",
    "    # concatenate the stemmed token list and all n-gram list together\n",
    "    train_feats.append(train_stemmed[i] + train_2_gram[i] + train_3_gram[i] + train_4_gram[i])\n",
    "test_feats = list()\n",
    "for i in range(len(test_ids)):\n",
    "    # concatenate the stemmed token list and all n-gram list together\n",
    "    test_feats.append(test_stemmed[i] + test_2_gram[i]+ test_3_gram[i] + test_4_gram[i])\n",
    "\n",
    "\n",
    "\n",
    "# build the feats_matrix\n",
    "# We first convert each example to a ont-hot vector, and then stack vectors as a matrix. Afterwards,\n",
    "# we save this feature matirx in a COO sparse matrix format to reduce memory consumption.\n",
    "# See https://docs.scipy.org/doc/scipy/reference/generated/scipy.sparse.coo_matrix.html and \n",
    "# https://en.wikipedia.org/wiki/Sparse_matrix#Coordinate_list_(COO) for details.\n",
    "\n",
    "train_feats_matrix = coo_matrix(np.vstack([get_onehot_vector(f, feats_dict) for f in train_feats]))\n",
    "test_feats_matrix = coo_matrix(np.vstack([get_onehot_vector(f, feats_dict) for f in test_feats]))\n",
    "\n",
    "# Fit the feature matrix and labels to train the classifier.\n",
    "# Since the classifier can only process matrices in the dense format,\n",
    "# we use toarray() function to get the dense representation of the sparse \n",
    "# matrix before passing it to the classifier\n",
    "clf0.fit(train_feats_matrix.toarray(), train_labels.values)"
   ]
  },
  {
   "cell_type": "markdown",
   "metadata": {},
   "source": [
    "Evaluate the classifier on train and test set"
   ]
  },
  {
   "cell_type": "code",
   "execution_count": 13,
   "metadata": {
    "scrolled": true
   },
   "outputs": [
    {
     "name": "stdout",
     "output_type": "stream",
     "text": [
      "training accuracy 0.875\n",
      "test accuracy 0.5025\n"
     ]
    }
   ],
   "source": [
    "#Get the predictions of the classifier\n",
    "train_pred = clf0.predict(train_feats_matrix.toarray())\n",
    "test_pred = clf0.predict(test_feats_matrix.toarray())\n",
    "\n",
    "#Compute accuracy scores\n",
    "train_score = accuracy_score(train_labels.values, train_pred)\n",
    "test_score = accuracy_score(test_labels.values, test_pred)\n",
    "print(\"training accuracy\", train_score)\n",
    "print(\"test accuracy\", test_score)"
   ]
  },
  {
   "cell_type": "markdown",
   "metadata": {},
   "source": [
    "We can see that the training accuracy is much lower than the test accuracy, which indicates that our classifier is overfitted. \n",
    "In order to address this overfitting issue, we can use the cross-validation with ensemble to select the best input features.\n",
    "We will first analyze the features, then we will introduce how to use the cross-validation and ensemble technique."
   ]
  },
  {
   "cell_type": "markdown",
   "metadata": {},
   "source": [
    "### Feature Analysis"
   ]
  },
  {
   "cell_type": "markdown",
   "metadata": {},
   "source": [
    "Firstly, we can check the stemmed features."
   ]
  },
  {
   "cell_type": "code",
   "execution_count": 14,
   "metadata": {},
   "outputs": [
    {
     "name": "stdout",
     "output_type": "stream",
     "text": [
      "stemmed feature size: 12515\n"
     ]
    },
    {
     "data": {
      "image/png": "[encoded data removed]",
      "text/plain": [
       "<Figure size 720x288 with 2 Axes>"
      ]
     },
     "metadata": {
      "needs_background": "light"
     },
     "output_type": "display_data"
    }
   ],
   "source": [
    "# get feature size\n",
    "print(\"stemmed feature size:\", len(stemmed_feat_cnt))\n",
    "\n",
    "# then, get the sorted features by the frequency\n",
    "stemmed_feat_keys = [f for f,cnt in stemmed_feat_cnt.most_common()]\n",
    "\n",
    "# draw linear lines and log lines for sorted features\n",
    "# set the figure size\n",
    "plt.figure(figsize=(10,4))\n",
    "# generate two subfigures and set current as the first one\n",
    "plt.subplot(1,2,1)\n",
    "# draw linear lines\n",
    "plt.plot(range(1, len(stemmed_feat_cnt)+1), \n",
    "        [stemmed_feat_cnt[f] for f in stemmed_feat_keys])\n",
    "# set labels\n",
    "plt.xlabel(\"Feature Index\")\n",
    "plt.ylabel(\"Feature Frequency\")\n",
    "# set current as the second one\n",
    "plt.subplot(1,2,2)\n",
    "# draw log lines\n",
    "plt.loglog(range(1, len(stemmed_feat_cnt)+1), \n",
    "           [stemmed_feat_cnt[f] for f in stemmed_feat_keys],\n",
    "           basex=10, basey=10)\n",
    "# set labels\n",
    "plt.xlabel(\"Feature Index\")\n",
    "plt.ylabel(\"Feature Frequency\")\n",
    "plt.show()"
   ]
  },
  {
   "cell_type": "markdown",
   "metadata": {},
   "source": [
    "Similarly, we can check the 2-gram features."
   ]
  },
  {
   "cell_type": "code",
   "execution_count": 15,
   "metadata": {},
   "outputs": [
    {
     "name": "stdout",
     "output_type": "stream",
     "text": [
      "2-gram feature size: 101412\n"
     ]
    },
    {
     "data": {
      "image/png": "[encoded data removed]",
      "text/plain": [
       "<Figure size 720x288 with 2 Axes>"
      ]
     },
     "metadata": {
      "needs_background": "light"
     },
     "output_type": "display_data"
    }
   ],
   "source": [
    "# get the feature size\n",
    "print(\"2-gram feature size:\", len(bi_gram_feat_cnt))\n",
    "\n",
    "# then, get the sorted features by the frequency\n",
    "bi_gram_feat_keys = [f for f,cnt in bi_gram_feat_cnt.most_common()]\n",
    "\n",
    "# draw linear lines and log lines for sorted features\n",
    "plt.figure(figsize=(10,4))\n",
    "plt.subplot(1,2,1)\n",
    "plt.plot(range(1, len(bi_gram_feat_cnt)+1), \n",
    "        [bi_gram_feat_cnt[f] for f in bi_gram_feat_keys])\n",
    "plt.xlabel(\"Feature Index\")\n",
    "plt.ylabel(\"Feature Frequency\")\n",
    "plt.subplot(1,2,2)\n",
    "plt.loglog(range(1, len(bi_gram_feat_cnt)+1), \n",
    "            [bi_gram_feat_cnt[f] for f in bi_gram_feat_keys],\n",
    "           basex=10, basey=10)\n",
    "plt.xlabel(\"Feature Index\")\n",
    "plt.ylabel(\"Feature Frequency\")\n",
    "plt.show()"
   ]
  },
  {
   "cell_type": "markdown",
   "metadata": {},
   "source": [
    "3-gram features are much sparser."
   ]
  },
  {
   "cell_type": "code",
   "execution_count": 16,
   "metadata": {},
   "outputs": [
    {
     "name": "stdout",
     "output_type": "stream",
     "text": [
      "3-gram feature size: 166549\n"
     ]
    },
    {
     "data": {
      "image/png": "[encoded data removed]",
      "text/plain": [
       "<Figure size 720x288 with 2 Axes>"
      ]
     },
     "metadata": {
      "needs_background": "light"
     },
     "output_type": "display_data"
    }
   ],
   "source": [
    "# get the feature size\n",
    "print(\"3-gram feature size:\", len(tri_gram_feat_cnt))\n",
    "\n",
    "# then, get the sorted features by the frequency\n",
    "tri_gram_feat_keys = [f for f,cnt in tri_gram_feat_cnt.most_common()]\n",
    "\n",
    "# draw linear lines and log lines for sorted features\n",
    "plt.figure(figsize=(10,4))\n",
    "plt.subplot(1,2,1)\n",
    "plt.plot(range(1, len(tri_gram_feat_cnt)+1), \n",
    "        [tri_gram_feat_cnt[f] for f in tri_gram_feat_keys])\n",
    "plt.xlabel(\"Feature Index\")\n",
    "plt.ylabel(\"Feature Frequency\")\n",
    "plt.subplot(1,2,2)\n",
    "plt.loglog(range(1, len(tri_gram_feat_cnt)+1), \n",
    "            [tri_gram_feat_cnt[f] for f in tri_gram_feat_keys],\n",
    "           basex=10, basey=10)\n",
    "plt.xlabel(\"Feature Index\")\n",
    "plt.ylabel(\"Feature Frequency\")\n",
    "plt.show()"
   ]
  },
  {
   "cell_type": "markdown",
   "metadata": {},
   "source": [
    "And 4-gram models."
   ]
  },
  {
   "cell_type": "code",
   "execution_count": 17,
   "metadata": {},
   "outputs": [
    {
     "name": "stdout",
     "output_type": "stream",
     "text": [
      "4-gram feature size: 182575\n"
     ]
    },
    {
     "data": {
      "image/png": "[encoded data removed]",
      "text/plain": [
       "<Figure size 720x288 with 2 Axes>"
      ]
     },
     "metadata": {
      "needs_background": "light"
     },
     "output_type": "display_data"
    }
   ],
   "source": [
    "# get the feature size\n",
    "print(\"4-gram feature size:\", len(four_gram_feat_cnt))\n",
    "\n",
    "# then, get the sorted features by the frequency\n",
    "four_gram_feat_keys = [f for f,cnt in four_gram_feat_cnt.most_common()]\n",
    "\n",
    "# draw linear lines and log lines for sorted features\n",
    "plt.figure(figsize=(10,4))\n",
    "plt.subplot(1,2,1)\n",
    "plt.plot(range(1, len(four_gram_feat_cnt)+1), \n",
    "        [four_gram_feat_cnt[f] for f in four_gram_feat_keys])\n",
    "plt.xlabel(\"Feature Index\")\n",
    "plt.ylabel(\"Feature Frequency\")\n",
    "plt.subplot(1,2,2)\n",
    "plt.loglog(range(1, len(four_gram_feat_cnt)+1), \n",
    "            [four_gram_feat_cnt[f] for f in four_gram_feat_keys],\n",
    "           basex=10, basey=10)\n",
    "plt.xlabel(\"Feature Index\")\n",
    "plt.ylabel(\"Feature Frequency\")\n",
    "plt.show()"
   ]
  },
  {
   "cell_type": "markdown",
   "metadata": {},
   "source": [
    "We can also put them together."
   ]
  },
  {
   "cell_type": "code",
   "execution_count": 18,
   "metadata": {},
   "outputs": [
    {
     "data": {
      "image/png": "[encoded data removed]",
      "text/plain": [
       "<Figure size 720x288 with 2 Axes>"
      ]
     },
     "metadata": {
      "needs_background": "light"
     },
     "output_type": "display_data"
    }
   ],
   "source": [
    "# draw linear lines and log lines for sorted features\n",
    "plt.figure(figsize=(10,4))\n",
    "plt.subplot(1,2,1)\n",
    "# put the four linear lines together\n",
    "plt.plot(range(1, len(stemmed_feat_cnt)+1),\n",
    "         [stemmed_feat_cnt[f] for f in stemmed_feat_keys],\n",
    "         label=\"stemmed\")\n",
    "plt.plot(range(1, len(bi_gram_feat_cnt)+1),\n",
    "         [bi_gram_feat_cnt[f] for f in bi_gram_feat_keys],\n",
    "         label=\"2-gram\")\n",
    "plt.plot(range(1, len(tri_gram_feat_cnt)+1),\n",
    "         [tri_gram_feat_cnt[f] for f in tri_gram_feat_keys],\n",
    "         label=\"3-gram\")\n",
    "plt.plot(range(1, len(four_gram_feat_cnt)+1),\n",
    "         [four_gram_feat_cnt[f] for f in four_gram_feat_keys],\n",
    "         label=\"4-gram\")\n",
    "plt.xlabel(\"Feature Index\")\n",
    "plt.ylabel(\"Feature Frequency\")\n",
    "# show the legend\n",
    "plt.legend()\n",
    "plt.subplot(1,2,2)\n",
    "# put the four log lines together\n",
    "plt.loglog(range(1, len(stemmed_feat_cnt)+1),\n",
    "         [stemmed_feat_cnt[f] for f in stemmed_feat_keys],\n",
    "           basex=10, basey=10, label=\"stemmed\")\n",
    "plt.loglog(range(1, len(bi_gram_feat_cnt)+1),\n",
    "         [bi_gram_feat_cnt[f] for f in bi_gram_feat_keys],\n",
    "           basex=10, basey=10, label=\"2-gram\")\n",
    "plt.loglog(range(1, len(tri_gram_feat_cnt)+1),\n",
    "         [tri_gram_feat_cnt[f] for f in tri_gram_feat_keys],\n",
    "           basex=10, basey=10, label=\"3-gram\")\n",
    "plt.loglog(range(1, len(four_gram_feat_cnt)+1),\n",
    "         [four_gram_feat_cnt[f] for f in four_gram_feat_keys],\n",
    "           basex=10, basey=10, label=\"4-gram\")\n",
    "plt.xlabel(\"Feature Index\")\n",
    "plt.ylabel(\"Feature Frequency\")\n",
    "# show the legend\n",
    "plt.legend()\n",
    "plt.show()"
   ]
  },
  {
   "cell_type": "markdown",
   "metadata": {},
   "source": [
    "As we can see, linear lines are not suitable to analyze. From the log view, we can find more than 80% features are low-frequent.\n",
    "And only about 3000 features occur no less than 10 times."
   ]
  },
  {
   "cell_type": "code",
   "execution_count": 19,
   "metadata": {},
   "outputs": [
    {
     "name": "stdout",
     "output_type": "stream",
     "text": [
      "stemmed features > 10: 1770\n",
      "2-gram features > 10: 1702\n",
      "3-gram features > 10: 260\n",
      "4-gram features > 10: 13\n"
     ]
    }
   ],
   "source": [
    "print(\"stemmed features > 10:\",\n",
    "      len([f for f, cnt in stemmed_feat_cnt.items() if cnt > 10]))\n",
    "print(\"2-gram features > 10:\",\n",
    "      len([f for f, cnt in bi_gram_feat_cnt.items() if cnt > 10]))\n",
    "print(\"3-gram features > 10:\",\n",
    "      len([f for f, cnt in tri_gram_feat_cnt.items() if cnt > 10]))\n",
    "print(\"4-gram features > 10:\",\n",
    "      len([f for f, cnt in four_gram_feat_cnt.items() if cnt > 10]))"
   ]
  },
  {
   "cell_type": "markdown",
   "metadata": {},
   "source": [
    "And we can check the top 10 features."
   ]
  },
  {
   "cell_type": "code",
   "execution_count": 20,
   "metadata": {},
   "outputs": [
    {
     "name": "stdout",
     "output_type": "stream",
     "text": [
      "stemmed features top 10: ['.', 'hotel', 'room', 'stay', 'great', \"n't\", 'locat', 'staff', 'night', 'nice']\n",
      "2-gram features top 10: ['. room', 'hotel .', '. hotel', 'room .', 'stay .', '. staff', \"did n't\", '. stay', '. not', 'san francisco']\n",
      "3-gram features top 10: [\". did n't\", 'san francisco .', '. staff friendli', '. room clean', 'staff friendli help', '. room small', 'friendli help .', '. definit stay', 'pike place market', 'definit stay .']\n",
      "4-gram features top 10: ['staff friendli help .', '. staff friendli help', '. definit stay .', 'pike place market .', 'great hotel great locat', 'hotel great locat .', 'block pike place market', '. staff help friendli', 'staff help friendli .', \"ca n't beat locat\"]\n"
     ]
    }
   ],
   "source": [
    "print(\"stemmed features top 10:\",\n",
    "      stemmed_feat_keys[:10])\n",
    "print(\"2-gram features top 10:\",\n",
    "      bi_gram_feat_keys[:10])\n",
    "print(\"3-gram features top 10:\",\n",
    "      tri_gram_feat_keys[:10])\n",
    "print(\"4-gram features top 10:\",\n",
    "      four_gram_feat_keys[:10])"
   ]
  },
  {
   "cell_type": "markdown",
   "metadata": {},
   "source": [
    "## Cross Validation and Ensemble"
   ]
  },
  {
   "cell_type": "markdown",
   "metadata": {},
   "source": [
    "We can use cross validation with the ensemble technique to reduce overfitting as well as the randomness issue."
   ]
  },
  {
   "cell_type": "code",
   "execution_count": 21,
   "metadata": {},
   "outputs": [
    {
     "name": "stdout",
     "output_type": "stream",
     "text": [
      "training accuracy 0.886721680420105\n",
      "validation accuracy 0.44677661169415295\n",
      "training accuracy 0.8792198049512379\n",
      "validation accuracy 0.4257871064467766\n",
      "training accuracy 0.9220389805097451\n",
      "validation accuracy 0.4264264264264264\n",
      "Average validation score:  0.43299671485578534\n"
     ]
    }
   ],
   "source": [
    "# n_fold document: https://scikit-learn.org/stable/modules/generated/sklearn.model_selection.StratifiedKFold.html\n",
    "n_fold = 3\n",
    "np.random.seed(0)\n",
    "# create the n-fold generator\n",
    "skf = StratifiedKFold(n_fold, shuffle=True)\n",
    "\n",
    "clfs_1 = list()\n",
    "valid_acc_list = list()\n",
    "for k, (train_idx, valid_idx) in enumerate(\n",
    "    skf.split(train_feats_matrix.toarray(), train_labels)):\n",
    "    # build the classifier and train\n",
    "    clf = GaussianNB()\n",
    "    \n",
    "    clf.fit(train_feats_matrix.toarray()[train_idx], train_labels.values[train_idx])\n",
    "    \n",
    "    #Get the predictions of the classifier\n",
    "    train_pred = clf.predict(train_feats_matrix.toarray()[train_idx])\n",
    "    valid_pred = clf.predict(train_feats_matrix.toarray()[valid_idx])\n",
    "\n",
    "    #Compute accuracy scores\n",
    "    train_score = accuracy_score(train_labels.values[train_idx], train_pred)\n",
    "    valid_score = accuracy_score(train_labels.values[valid_idx], valid_pred)\n",
    "    \n",
    "    print(\"training accuracy\", train_score)\n",
    "    print(\"validation accuracy\", valid_score)\n",
    "    \n",
    "    clfs_1.append(clf)\n",
    "    valid_acc_list.append(valid_score)\n",
    "    \n",
    "print('Average validation score: ', sum(valid_acc_list)/len(valid_acc_list))"
   ]
  },
  {
   "cell_type": "markdown",
   "metadata": {},
   "source": [
    "We can try another model with different input features"
   ]
  },
  {
   "cell_type": "code",
   "execution_count": 22,
   "metadata": {},
   "outputs": [
    {
     "name": "stdout",
     "output_type": "stream",
     "text": [
      "Size of new features: 3472\n"
     ]
    }
   ],
   "source": [
    "# build a set containing each unique feature which has appeared more than 10 times in the training set\n",
    "new_feats_set = set()\n",
    "\n",
    "# add those stem features which occurs more than 10 times into the feature set.\n",
    "new_feats_set.update([f for f, cnt in stemmed_feat_cnt.items() if cnt > 10]) \n",
    "    \n",
    "# add those 2-gram features which occurs more than 10 times into the feature set.\n",
    "new_feats_set.update([f for f, cnt in bi_gram_feat_cnt.items() if cnt > 10]) \n",
    "\n",
    "print(\"Size of new features:\", len(new_feats_set))\n",
    "# build a mapping from features to indices\n",
    "new_feats_dict = dict(zip(new_feats_set, range(len(new_feats_set))))\n",
    "\n",
    "\n",
    "\n",
    "# build the feature list\n",
    "new_train_feats = list()\n",
    "for i in range(len(train_ids)):\n",
    "    # concatenate the stemmed token list and the 2_gram list together\n",
    "    new_train_feats.append(train_stemmed[i] + train_2_gram[i] )\n",
    "new_test_feats = list()\n",
    "for i in range(len(test_ids)):\n",
    "    # concatenate the stemmed token list and the 2_gram list together\n",
    "    new_test_feats.append(test_stemmed[i] + test_2_gram[i])\n",
    "\n",
    "# build the feats_matrix in a similar way as described above\n",
    "new_train_feats_matrix = coo_matrix(np.vstack([get_onehot_vector(f, new_feats_dict) for f in new_train_feats]))\n",
    "new_test_feats_matrix = coo_matrix(np.vstack([get_onehot_vector(f, new_feats_dict) for f in new_test_feats]))\n",
    "\n"
   ]
  },
  {
   "cell_type": "code",
   "execution_count": 23,
   "metadata": {},
   "outputs": [
    {
     "name": "stdout",
     "output_type": "stream",
     "text": [
      "training accuracy 0.8912228057014253\n",
      "validation accuracy 0.43778110944527737\n",
      "training accuracy 0.8994748687171793\n",
      "validation accuracy 0.41529235382308843\n",
      "training accuracy 0.9085457271364318\n",
      "validation accuracy 0.4339339339339339\n",
      "Average validation score:  0.4290024657340999\n"
     ]
    }
   ],
   "source": [
    "n_fold = 3\n",
    "# create the n-fold generator\n",
    "skf = StratifiedKFold(n_fold, shuffle=True)\n",
    "\n",
    "clfs_2 = list()\n",
    "valid_acc_list = list()\n",
    "\n",
    "for k, (train_idx, valid_idx) in enumerate(\n",
    "    skf.split(new_train_feats_matrix.toarray(), train_labels)):\n",
    "    # build the classifier and train\n",
    "    clf = GaussianNB()\n",
    "    \n",
    "    clf.fit(new_train_feats_matrix.toarray()[train_idx], train_labels.values[train_idx])\n",
    "    \n",
    "    #Get the predictions of the classifier\n",
    "    train_pred = clf.predict(new_train_feats_matrix.toarray()[train_idx])\n",
    "    valid_pred = clf.predict(new_train_feats_matrix.toarray()[valid_idx])\n",
    "\n",
    "    #Compute accuracy scores\n",
    "    train_score = accuracy_score(train_labels.values[train_idx], train_pred)\n",
    "    valid_score = accuracy_score(train_labels.values[valid_idx], valid_pred)\n",
    "    \n",
    "    print(\"training accuracy\", train_score)\n",
    "    print(\"validation accuracy\", valid_score)\n",
    "    \n",
    "    clfs_2.append(clf)\n",
    "    valid_acc_list.append(valid_score)\n",
    "    \n",
    "print('Average validation score: ', sum(valid_acc_list)/len(valid_acc_list))"
   ]
  },
  {
   "cell_type": "markdown",
   "metadata": {},
   "source": [
    "Since the classifier with the first type of features has better validation score, we choose to do the ensemble on the corresponding instances."
   ]
  },
  {
   "cell_type": "code",
   "execution_count": 24,
   "metadata": {},
   "outputs": [
    {
     "name": "stdout",
     "output_type": "stream",
     "text": [
      "Ensemble test accuracy 0.4425\n"
     ]
    }
   ],
   "source": [
    "# compute the sum of test probabilities and return the classes with largest sums\n",
    "test_prob = None\n",
    "for i, clf in enumerate(clfs_1):\n",
    "    if(i==0):\n",
    "        test_prob = clf.predict_proba(test_feats_matrix.toarray())\n",
    "    else:\n",
    "        test_prob += clf.predict_proba(test_feats_matrix.toarray())\n",
    "        \n",
    "test_pred = test_prob.argmax(axis=1) + 1\n",
    "print(\"Ensemble\", \"test accuracy\", accuracy_score(test_labels, test_pred))"
   ]
  },
  {
   "cell_type": "code",
   "execution_count": null,
   "metadata": {},
   "outputs": [],
   "source": []
  }
 ],
 "metadata": {
  "kernelspec": {
   "display_name": "Python 3",
   "language": "python",
   "name": "python3"
  },
  "language_info": {
   "codemirror_mode": {
    "name": "ipython",
    "version": 3
   },
   "file_extension": ".py",
   "mimetype": "text/x-python",
   "name": "python",
   "nbconvert_exporter": "python",
   "pygments_lexer": "ipython3",
   "version": "3.7.7"
  }
 },
 "nbformat": 4,
 "nbformat_minor": 2
}
